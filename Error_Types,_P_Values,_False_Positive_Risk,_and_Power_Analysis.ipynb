{
  "cells": [
    {
      "cell_type": "markdown",
      "metadata": {
        "id": "M0y2BCOIwU5b"
      },
      "source": [
        "[![Open In Colab](https://colab.research.google.com/assets/colab-badge.svg)](https://colab.research.google.com/github/PennNGG/Quantitative-Neuroscience/blob/master/Concepts/Python/Error%20Types%2c%20P%2dValues%2c%20False%2dPositive%20Risk%2c%20and%20Power%20Analysis.ipynb)"
      ]
    },
    {
      "cell_type": "markdown",
      "metadata": {
        "id": "pKIiY6p3GRFq"
      },
      "source": [
        "# Definitions"
      ]
    },
    {
      "cell_type": "markdown",
      "metadata": {
        "id": "x7VmLUr5GTNw"
      },
      "source": [
        "In general, you can think of four possible outcomes of an experiment relative to a Null Hypothesis (H0):\n",
        "\n",
        "1\\. **False positive**: $H_0$ is true and $H_0$ is rejected. This outcome is called a **Type I error**, and its rate of occurrence is usually denoted as $\\alpha$.\n",
        "\n",
        "2\\. **True negative**: $H_0$ is true and $H_0$ is not rejected. This outcome is the complement of a false positive error (i.e., it is the only other possibility when $H_0$ is true) and thus its rate of occurrence is usually denoted as $1-\\alpha$.\n",
        "\n",
        "3\\. **False negative:** $H_0$ is false and $H_0$ is not rejected. This outcome is called a **Type II error**, and its rate of occurrence is usually denoted as $\\beta$.\n",
        "\n",
        "4\\. **True positive**: $H_0$ is false and $H_0$ is rejected. This outcome is the complement of a false negative error (i.e., it is the only other possibility when $H_0$ is false) and thus its rate of occurrence is usually denoted as $1-\\beta$."
      ]
    },
    {
      "cell_type": "markdown",
      "metadata": {
        "id": "iMdIhX4jHkIH"
      },
      "source": [
        "## *p*-values"
      ]
    },
    {
      "cell_type": "markdown",
      "metadata": {
        "id": "Aur66POnHp8A"
      },
      "source": [
        "A *p* value describes the probability of obtaining your data (more precisely the value of the test statistic you are using to summarize your data), given the assumption that the Null hypothesis ($H_0$) is true. It is typically related to the concepts listed above by comparing its value to a rejection threshold equal to $\\alpha$, the Type I error rate you have defined conditioned on the Null hypothesis being true; i.e., reject $H_0$ if $p<\\alpha$.\n",
        "\n",
        "Recognize that this formulation does not imply that your obtained *p* value or chosen $\\alpha$ quantifies the probability that your data represents a false positive, [because knowing that would require knowing the prior probability that the Null hypothesis is true](https://colab.research.google.com/drive/1HW0L_d5Wpod3jbnY3iG7mLhMG6yWHvF2?usp=sharing)), as detailed below.\n",
        "\n",
        "Also see \"Additional Resources\" below for links to paper arguing that *p*-values are over-used, mis-interpreted, and/or should be abandoned completely. Despite the arguments put forward in those papers, *p*-values remain prevalent, and it is very likely you will use them in your studies. They also can be useful, as long as you keep in mind the caveats discussed here (and in those papers)."
      ]
    },
    {
      "cell_type": "markdown",
      "metadata": {
        "id": "bkVu6eGKIIiQ"
      },
      "source": [
        "# Getting Started with Code\n"
      ]
    },
    {
      "cell_type": "markdown",
      "metadata": {
        "id": "gxusMZ-UN_6m"
      },
      "source": [
        "Matlab code is found in the [NGG Statistics GitHub Repository](https://github.com/PennNGG/Statistics.git) under \"Concepts/PowerAnalysisExample1.m\" and \"Concepts/PowerAnalysisExample2.m\".\n",
        "\n",
        "Python code is included below. First run the code cell just below to make sure all of the required Python modules are loaded, then you can run the other cell(s)."
      ]
    },
    {
      "cell_type": "code",
      "execution_count": null,
      "metadata": {
        "id": "W633IbbRIdwa"
      },
      "outputs": [],
      "source": [
        "import numpy as np\n",
        "import matplotlib.pyplot as plt\n",
        "import scipy.stats as st\n",
        "from statsmodels.stats.power import TTestIndPower"
      ]
    },
    {
      "cell_type": "markdown",
      "metadata": {
        "id": "isP38xJSbJuA"
      },
      "source": [
        "# Positive-predictive value and false-discovery rate (and Bayes rule!)"
      ]
    },
    {
      "cell_type": "markdown",
      "metadata": {
        "id": "Fys3uL-UbaYR"
      },
      "source": [
        "What we ultimately care about when doing statistical inference isn't the probability that we would have obtained our data, given the Null hypothesis, but the probability that our test hypothesis is true, given the data. Because now we are talking about the probability of a hypothesis being true (a \"posterior probability\"), we must use Bayes rule -- which also means that we need a prior. We call this posterior probability the \"positive-predictive value\" of the particular test we are using:\n",
        "\n",
        "$\\begin{aligned}\\quad \\text{positive-predictive value} &\\equiv p(H_1|\\text{test result is significant}) \\\\\n",
        "&=\\frac{p(\\text{test result is significant}|H_1)p(H_1)}{p(\\text{test result is significant})} \\\\\n",
        "&=\\frac{p(\\text{test result is significant}|H_1)p(H_1)}{p(\\text{test result is significant}|H_0)p(H_0)+p(\\text{test\\ result\\ is\\ significant}|H_1)p(H_1)} \\\\\n",
        "&=\\frac{\\text{power}\\cdot \\pi_1}{\\text{false-positive rate}\\cdot\\pi_1+\\text{power}\\cdot\\pi_1} \\\\\n",
        "&=\\frac{(1-\\beta)\\cdot\\pi_1}{\\alpha\\cdot\\pi_0+(1-\\beta)\\cdot\\pi_1} \\\\\n",
        "&=\\frac{1}{1+\\frac{\\alpha}{1-\\beta}\\cdot\\frac{\\pi_0}{1-\\pi_0}} \\\\\n",
        "\\end{aligned}$\n",
        "\n",
        "Where $\\alpha$ is your chosen p-value threshold (the expected false-positive rate), $1-\\beta$ is the power (the expected true-positive rate; see below), and $\\pi_0$ and $\\pi_1$ are the prior probabilities of the two hypotheses (where $\\pi_1=1/\\pi_0$).\n",
        "\n",
        "We can also compute the false-discovery rate (also called the false-positive risk, among other terms):\n",
        "\n",
        "$\\begin{aligned}\\quad \\text{false-discovery rate} &\\equiv p(H_0|\\text{test result is significant}) \\\\\n",
        "&=\\frac{p(\\text{test result is significant}|H_0)p(H_0)}{p(\\text{test result is significant})} \\\\\n",
        "&=\\frac{p(\\text{test result is significant}|H_0)p(H_0)}{p(\\text{test result is significant}|H_0)p(H_0)+p(\\text{test result is significant}|H_1)p(H_1)} \\\\\n",
        "&=\\frac{\\text{false-positive rate}\\cdot \\pi_0}{\\text{false-positive rate}\\cdot\\pi_1+\\text{power}\\cdot\\pi_1} \\\\\n",
        "&=\\frac{\\alpha\\cdot\\pi_0}{\\alpha\\cdot\\pi_0+(1-\\beta)\\cdot\\pi_1}  \\\\\n",
        "&=\\frac{1}{1+\\frac{1-\\beta}{\\alpha}\\cdot\\frac{1-\\pi_0}{\\pi_0}} \\\\\n",
        "&=1-\\text{positive-predictive value} \\\\\n",
        "\\end{aligned}$\n",
        "\n",
        "Because $\\pi_0$ can be difficult to know, it is sometimes assumed to be 0.5 and used to compute the \"minimum false-discovery rate.\"\n",
        "\n",
        "Note that for $\\alpha=0.05$, $\\pi_0$=0.5, and $1-\\beta$=0.8, the minimum FPR=0.2, which is much bigger than the *p* value!\n",
        "\n",
        " **In general, positive-predictive value and false-discovery rate are estimated in advance of conducting the experiment to help justify your experimental design, not post hoc to help justify the statistical reliability of your findings.**"
      ]
    },
    {
      "cell_type": "code",
      "execution_count": null,
      "metadata": {
        "id": "f7v0i-olmSJW"
      },
      "outputs": [],
      "source": [
        "p = 0.05\n",
        "pi0 = 0.5\n",
        "beta = 0.8\n",
        "\n",
        "minFPR = (p*pi0)/(p*pi0+(1-beta)*(1-pi0))\n",
        "print(f'minimum FPR = {minFPR:.1f}')"
      ]
    },
    {
      "cell_type": "markdown",
      "metadata": {
        "id": "TUua3Dfaj862"
      },
      "source": [
        "# Power analysis and Type II errors"
      ]
    },
    {
      "cell_type": "markdown",
      "metadata": {
        "id": "fJk1GSRIjOWt"
      },
      "source": [
        "Power analysis is used to estimate the probably that an experiment will detect an effect, given that the effect is actually present; that is, the probability that it will not produce a Type II error, corresponding to a true positive ($1-\\beta$) and complementary to a false negative ($\\beta$). **In general, power analysis is done in advance of conducting the experiment to help justify your experimental design, not post hoc to help justify the statistical reliability of your findings.**\n",
        "\n",
        "A power analysis is based on four quantities that you must know, guess at, or figure out before you can do the calculation:\n",
        "\n",
        "1\\. Effect size: the magnitude of your test statistic that you might expect to obtain in your experiment; e.g., a Pearson's correlation coefficient of 0.4.\n",
        "\n",
        "2\\. Sample size: the number of observations in the experimental sample you plan to obtain.\n",
        "\n",
        "3\\. Significance level: the p-value you will use in your hypothesis testing, usually $\\alpha$.\n",
        "\n",
        "4\\. Statistical power: the power you wish to obtain, usually $1-\\beta$"
      ]
    },
    {
      "cell_type": "markdown",
      "metadata": {
        "id": "wB8P5dxtkHB2"
      },
      "source": [
        "## Example 1 (Button et al 2013)"
      ]
    },
    {
      "cell_type": "markdown",
      "metadata": {
        "id": "gEr6vP8IkVX2"
      },
      "source": [
        "Below we will write some code to play with the analysis shown in Fig. 1 of:\n",
        "\n",
        "Button et al (2013), [Power failure: why small sample size undermines the reliability of neuroscience](https://www.nature.com/articles/nrn3475), Nature Reviews Neuroscience.\n",
        "\n",
        "![](https://drive.google.com/uc?export=view&id=1K9iRvlNRzqbFCaaGVVW6W6Y1UMYVN_DT)\n",
        "\n",
        "**Figure legend**: Statistical power of a replication study. a | If a study finds evidence for an effect at p=0.05, then the difference between the mean of the null distribution (indicated by the solid blue curve) and the mean of the observed distribution (dashed blue curve) is $1.96\\cdot sem$. b | Studies attempting to replicate an effect using the same sample size as that of the original study would have roughly the same sampling variation (that is, sem) as in the original study. Assuming, as one might in a power calculation, that the initially observed effect we are trying to replicate reflects the true effect, the potential distribution of these replication effect estimates would be similar to the distribution of the original study (dashed green curve). A study attempting to replicate a nominally significant effect (p~0.05), which uses the same sample size as the original study, would therefore have (on average) a 50% chance of rejecting the null hypothesis (indicated by the coloured area under the green curve) and thus only 50% statistical power. c | We can increase the power of the replication study (coloured area under the orange curve) by increasing the sample size so as to reduce the sem. Powering a replication study adequately (that is, achieving a power of 80%) therefore often requires a larger sample size than the original study, and a power calculation will help to decide the required size of the replication sample."
      ]
    },
    {
      "cell_type": "code",
      "execution_count": null,
      "metadata": {
        "id": "luy8RT7GkGMn"
      },
      "outputs": [],
      "source": [
        "# Assume that an original study identified an effect size,\n",
        "#   representing the difference in the mean value of a test distribution\n",
        "#   versus a null distribution, divided by their common standard deviation\n",
        "#   (i.e., the z-score of their difference), at exactly p=0.05. Remember\n",
        "#   that these are distributions of mean values, so the standard deviations\n",
        "#   of these distributions represent standard errors of the mean. For a\n",
        "#   two-tailed test, this p-value implies that 0.975 of the area of the\n",
        "#   null distribtion is less than the effect size:\n",
        "effect_size = st.norm.ppf(0.975)\n",
        "\n",
        "# We can now reproduce the first panel:\n",
        "plt.figure(figsize=(10, 5))\n",
        "mu_0 = 0\n",
        "sem = 1      # make it easy by assuming sem=1\n",
        "mu_1 = effect_size*sem\n",
        "bin_size = 0.01\n",
        "x_axis = np.arange(-4, 6+bin_size, bin_size)\n",
        "x_edges = np.arange(x_axis[0]-bin_size/2, x_axis[-1]+bin_size, bin_size)\n",
        "plt.plot([mu_0, mu_0], [0, 0.45], 'k-')\n",
        "plt.plot([mu_1, mu_1], [0, 0.45], 'k-')\n",
        "plt.plot(x_axis, st.norm.pdf(x_axis, mu_0, sem), 'b-')\n",
        "plt.plot(x_axis, st.norm.pdf(x_axis, mu_1, sem), 'b--')\n",
        "plt.xlabel('value')\n",
        "plt.ylabel('probability')\n",
        "plt.show()\n",
        "\n",
        "# Now what happens when we try to replicate the result under the exact\n",
        "#   same conditions? Let's simulate N experiments:\n",
        "N = 100000\n",
        "\n",
        "# In each simulated experiment, we end up with a mean value that comes\n",
        "#   from the experimental distribution, and we only reject the Null\n",
        "#   hypothesis if the value is greater than or equal to the previous effect size:\n",
        "outcomes = np.random.normal(mu_1, sem, N)\n",
        "outcome_is_positive = outcomes >= effect_size\n",
        "print(f'{np.count_nonzero(outcome_is_positive)} positive outcomes out \\\n",
        "  of {N} experiments ({np.count_nonzero(outcome_is_positive)/N*100:.2f} pct)')\n",
        "\n",
        "# We can plot these results as a normalized histogram\n",
        "counts_no_effect, _ = np.histogram(outcomes[np.logical_not(outcome_is_positive)], bins=x_edges)\n",
        "counts_effect, _    = np.histogram(outcomes[outcome_is_positive], bins=x_edges)\n",
        "counts_all, _       = np.histogram(outcomes, bins=x_edges)\n",
        "normalizer          = np.trapz(counts_all, dx=bin_size)\n",
        "\n",
        "# Plot it\n",
        "plt.figure(figsize=(10, 5))\n",
        "plt.bar(x_axis, counts_no_effect/normalizer, width=0.01, color='lightgray')\n",
        "plt.bar(x_axis, counts_effect/normalizer, width=0.01, color='gray')\n",
        "plt.plot([mu_0, mu_0], [0, 0.45], 'k-')\n",
        "plt.plot([mu_1, mu_1], [0, 0.45], 'k-')\n",
        "plt.plot(x_axis, st.norm.pdf(x_axis, mu_0, sem), 'b-')\n",
        "plt.plot(x_axis, st.norm.pdf(x_axis, mu_1, sem), 'b--')\n",
        "plt.xlabel('value')\n",
        "plt.ylabel('probability')\n",
        "plt.show()"
      ]
    },
    {
      "cell_type": "code",
      "execution_count": null,
      "metadata": {
        "id": "xLWDx5U4lsqU"
      },
      "outputs": [],
      "source": [
        "# We can increase the power by increasing the signal-to-noise ratio (SNR) of\n",
        "#   our sample, via a reduction in sem and assuming the same mean effect size.\n",
        "#   The figure in the paper is confusing, because increasing SNR would narrow\n",
        "#   *both* distributions (because we assume that the two hypotheses differ only\n",
        "#   by their mean value, not the STD of the distributions). It is the change in\n",
        "#   both distributions that explains why you would be less likely to reject the\n",
        "#   Null hypothesis for the same effect size under these conditions.\n",
        "#\n",
        "# Also note that sem depends on both the number of samples (N) and the STD of\n",
        "#   the sampled distribution, so we need to define N or STD to be able to\n",
        "#   express sem in terms of the other of those two values.\n",
        "\n",
        "# We can use a power analysis to find the new sem. The key point is that a\n",
        "#   power analysis describes a relationship between the effect size and the\n",
        "#   power -- so we can define a particular power to compute the effect size.\n",
        "#   In this case, this computation is equivalent to doing a z test with one\n",
        "#   sample and a power of 80%, which can be computed as follows (which is\n",
        "#   basically computing: what is the mean of a standard normal distribution\n",
        "#   that has 80% of its mass >= the cutoff for the null distribution at z=0.975?)\n",
        "power = 0.8\n",
        "new_effect_size = st.norm.ppf(0.975) - st.norm.ppf(1-power)\n",
        "\n",
        "# This effect size is again the z-score, given the same mean difference\n",
        "#   as above and the new sem -- so we can use it to compute the new sem:\n",
        "old_effect_size = st.norm.ppf(0.975)\n",
        "old_sem = 1\n",
        "mu_0 = 0\n",
        "mu_1 = effect_size*old_sem\n",
        "new_sem = (mu_1-mu_0)/new_effect_size\n",
        "\n",
        "# To show that this is the case, let's try a bunch of sems and find the\n",
        "#   value that corresponds to when 80% of the effect distribution is >= the\n",
        "#   p=0.05 cutoff for the null distribution\n",
        "\n",
        "# Try a bunch of sems, smaller than before (i.e., <1)\n",
        "sems = np.arange(0.01, 1, 0.01)\n",
        "vals = np.zeros(np.size(sems))\n",
        "\n",
        "# Loop through them\n",
        "for idx, val in enumerate(sems):\n",
        "\n",
        "   # The probability of not rejecting the null hypothesis when the null\n",
        "   #  hypothesis is false is the mass of the effect distribution, which still\n",
        "   #  has a mean value of effectSize but now has the given sem, that is to the\n",
        "   #  right of the new cutoff\n",
        "   new_cutoff = st.norm.ppf(0.975, mu_0, val)\n",
        "   vals[idx] = 1 - st.norm.cdf(new_cutoff, effect_size, val)\n",
        "\n",
        "# Plot it\n",
        "plt.figure(figsize=(10, 5))\n",
        "plt.plot(sems, vals, 'o', color='lightgray')\n",
        "val_indices = np.flatnonzero(vals<=0.8)\n",
        "new_sem2 = sems[val_indices[0]]\n",
        "plt.plot([new_sem2, new_sem2], [0, 0.8], 'r-', linewidth=2)\n",
        "plt.plot([0, new_sem2], [0.8, 0.8], 'r-', linewidth=2)\n",
        "plt.plot(new_sem, 0.8, 'bo', markerfacecolor='b', markersize=10)\n",
        "plt.xlabel('sem')\n",
        "plt.ylabel('probability true positive')\n",
        "plt.axis([0, 1, 0, 1.1])\n",
        "plt.show()"
      ]
    },
    {
      "cell_type": "code",
      "execution_count": null,
      "metadata": {
        "id": "ys1mLXHdmLuD"
      },
      "outputs": [],
      "source": [
        "# Now do the simulated experiments as above, but with the new distributions\n",
        "N = 100000\n",
        "power = 0.8\n",
        "new_effect_size = st.norm.ppf(0.975) - st.norm.ppf(1-power)\n",
        "old_sem = 1\n",
        "mu_0 = 0\n",
        "mu_1 = effect_size*old_sem\n",
        "new_sem = (mu_1-mu_0)/new_effect_size\n",
        "\n",
        "bin_size = 0.01\n",
        "x_axis = np.arange(-4, 6+bin_size, bin_size)\n",
        "x_edges = np.arange(x_axis[0]-bin_size/2, x_axis[-1]+bin_size, bin_size)\n",
        "\n",
        "outcomes = np.random.normal(mu_1, new_sem, N)\n",
        "outcome_is_positive = outcomes >= st.norm.ppf(0.975, mu_0, new_sem)\n",
        "print(f'{np.count_nonzero(outcome_is_positive)} positive outcomes out of \\\n",
        "  {N} experiments ({np.count_nonzero(outcome_is_positive)/N*100:.2f} pct)')\n",
        "\n",
        "# We can plot these results as a normalized histogram\n",
        "counts_no_effect, _ = np.histogram(outcomes[np.logical_not(outcome_is_positive)], bins=x_edges)\n",
        "counts_effect, _    = np.histogram(outcomes[outcome_is_positive], bins=x_edges)\n",
        "counts_all, _       = np.histogram(outcomes, bins=x_edges)\n",
        "normalizer          = np.trapz(counts_all, dx=bin_size)\n",
        "\n",
        "# Plot it\n",
        "plt.figure(figsize=(10, 5))\n",
        "plt.bar(x_axis, counts_no_effect/normalizer, width=0.01, color='lightgray')\n",
        "plt.bar(x_axis, counts_effect/normalizer, width=0.01, color='gray')\n",
        "plt.plot([mu_0, mu_0], [0, 0.6], 'k-')\n",
        "plt.plot([mu_1, mu_1], [0, 0.6], 'k-')\n",
        "plt.plot(x_axis, st.norm.pdf(x_axis, mu_0, new_sem), 'b-')\n",
        "plt.plot(x_axis, st.norm.pdf(x_axis, mu_1, new_sem), 'b--')\n",
        "plt.xlabel('value')\n",
        "plt.ylabel('probability')\n",
        "plt.show()\n"
      ]
    },
    {
      "cell_type": "markdown",
      "metadata": {
        "id": "6nrv9VxvoO2m"
      },
      "source": [
        "## Example 2 (Joshi et al 2016)"
      ]
    },
    {
      "cell_type": "markdown",
      "metadata": {
        "id": "usfKVrVoo1L2"
      },
      "source": [
        "Power analyses for a relationship between pupil diameter and neural activity in the locus coeruleus (LC), as shown in Fig. 3 of:\n",
        "\n",
        "Joshi S, Li Y, Kalwani R, Gold JI (2016) [Relationships between pupil diameter and neuronal activity in the locus coeruleus, colliculi, and cingulate cortex](https://www.sciencedirect.com/science/article/pii/S089662731501034X?via%3Dihub). Neuron 89: 221-34.\n",
        "\n",
        "<div>\n",
        "<img src=https://drive.google.com/uc?export=view&id=1mIXmZBi7LNQlq3H1uAmEq0Az-uFAL1Kd width=250\\>\n",
        "<div>\n",
        "\n",
        "**Figure legend**. Trial-by-Trial Associations between Mean Pupil Diameter and LC Spike Rate\n",
        "\n",
        "(A–C) Example sessions. Per-trial mean pupil diameter (A) and spike rate (B) are each plotted as a function of the time of the beginning of stable fixation in the given trial, with respect to the beginning of the session. Lines are linear fits; (C) shows residuals to these fits. The line is a linear fit to the paired residuals, representing the partial correlation between pupil diameter and spike rate, accounting for linear drifts of each variable as a function of time within the session.\n",
        "\n",
        "(D) Distributions of Spearman’s partial correlations (ρ) between trial-by-trial pupil diameter and spike rate, accounting for time within the session, for each session from each monkey and each brain region, as indicated. Darker/lighter symbols indicate ρ > 0/ρ < 0. Filled symbols indicate H0: ρ = 0, p < 0.05. Counts (percentages) of significant positive/negative effects are shown for each monkey (per-monkey percentages for positive or negative effects were indistinguishable between LC+ and IC but were different for SCi, including fewer positive effects for both monkeys and more negative effects for monkey Ci; chi-square test, p < 0.05). Black symbols indicate the example sessions above. Scatter along the abscissa is arbitrary, for readability. Horizontal lines are medians; thick lines indicate H0: median = 0, Wilcoxon rank-sum test, p < 0.05."
      ]
    },
    {
      "cell_type": "markdown",
      "metadata": {
        "id": "nEoJ9GrtwU5e"
      },
      "source": [
        "### Exercise"
      ]
    },
    {
      "cell_type": "markdown",
      "metadata": {
        "id": "AotnlUOowU5e"
      },
      "source": [
        "Do a post-hoc power analysis to determine the number of data samples needed to achieve 80% power for a series of possible effect sizes. Notes and tips:\n",
        "\n",
        "1. Given that the data have already been collected, note that this is technically a \"post-hoc\" power analysis and is for demonstration purposes only. Normally these analyses must be done **before** collecting data.\n",
        "2. Assume that a \"data sample\" is simply the non-parametric correlation coefficient between pupil diameter and LC activty measured in a given session.\n",
        "3. Thus, to obtain a null distribution of these data samples, compute the correlation coefficients on simulated data that are independently generated from Poisson (for LC spiking data) and Gaussian (for pupil data)distributions.\n",
        "4. Then plot n (number of data samples, corresponding to correlation coefficients measured in a single expermental session) needed for 80% power as a function of effect sizes.\n",
        "5. To compute power, you can use TTestIndPower in Python, or sampsizepwr in Matlab"
      ]
    },
    {
      "cell_type": "code",
      "execution_count": 21,
      "metadata": {
        "colab": {
          "base_uri": "https://localhost:8080/",
          "height": 472
        },
        "id": "-m0QinN4xTnC",
        "outputId": "9ba55dfa-a5f2-4869-c186-1f060976ecbb"
      },
      "outputs": [
        {
          "data": {
            "image/png": "[encoded data removed]",
            "text/plain": [
              "<Figure size 640x480 with 1 Axes>"
            ]
          },
          "metadata": {},
          "output_type": "display_data"
        }
      ],
      "source": [
        "from statsmodels.stats.power import TTestIndPower\n",
        "import numpy as np\n",
        "\n",
        "# Initialize power analysis object\n",
        "power_analysis = TTestIndPower()\n",
        "\n",
        "# Define effect sizes to test (e.g., correlations from 0.1 to 0.5)\n",
        "r_effects = np.linspace(0.1, 0.5, 10)\n",
        "d_effects = 2*r_effects/np.sqrt(1-r_effects**2)\n",
        "\n",
        "# Desired power and significance level\n",
        "power = 0.8\n",
        "alpha = 0.05 #remember alpha is the significance level - or the probability that your test gives you a type-1 error (false positive). Usually this is 0.5 or 5% of a false positive\n",
        "\n",
        "\n",
        "# Compute required sample size per effect size - this is a computation about the mathematical relationship between effect size, sample size, α, and power.\n",
        "n_samples = [power_analysis.solve_power(effect_size=d, alpha=alpha, power=power, alternative='two-sided') for d in d_effects]\n",
        "# for d_effects: this collects the required n for the effect sizes - like how many sessions you would need to detect an effect.\n",
        "\n",
        "\n",
        "# plot\n",
        "import matplotlib.pyplot as plt\n",
        "plt.plot(r_effects, n_samples, marker='o')\n",
        "plt.xlabel('Correlation (r)')\n",
        "plt.ylabel('Number of sessions needed for 80% power')\n",
        "plt.title('Post-hoc power analysis for pupil-LC correlations')\n",
        "plt.show()\n"
      ]
    },
    {
      "cell_type": "markdown",
      "metadata": {
        "id": "UqoNXyuxP-go"
      },
      "source": [
        "# Additional Resources\n"
      ]
    },
    {
      "cell_type": "markdown",
      "metadata": {
        "id": "clnBO4FU28El"
      },
      "source": [
        "Power analysis introductions are [here](https://stats.idre.ucla.edu/other/mult-pkg/seminars/intro-power/) and [here](http://www.biostathandbook.com/power.html).\n",
        "\n",
        "Demonstrations are [here](https://demonstrations.wolfram.com/PowerAnalysisForATwoSampleTTest/) and [here](https://rpsychologist.com/d3/nhst/).\n",
        "\n",
        "Guidance for computing in [Matlab](https://www.mathworks.com/help/stats/sampsizepwr.html) (including a nice [tutorial](https://www.mathworks.com/help/stats/selecting-a-sample-size.html)\\), [R](https://www.statmethods.net/stats/power.html), and [Python](https://www.geeksforgeeks.org/introduction-to-power-analysis-in-python/)."
      ]
    },
    {
      "cell_type": "markdown",
      "metadata": {
        "id": "tteEm2Qlgbb3"
      },
      "source": [
        "# Credits\n",
        "\n",
        "Copyright 2021 by Joshua I. Gold, University of Pennsylvania"
      ]
    }
  ],
  "metadata": {
    "colab": {
      "collapsed_sections": [
        "bkVu6eGKIIiQ",
        "UqoNXyuxP-go"
      ],
      "provenance": [],
      "toc_visible": true
    },
    "kernelspec": {
      "display_name": "base",
      "language": "python",
      "name": "python3"
    },
    "language_info": {
      "codemirror_mode": {
        "name": "ipython",
        "version": 3
      },
      "file_extension": ".py",
      "mimetype": "text/x-python",
      "name": "python",
      "nbconvert_exporter": "python",
      "pygments_lexer": "ipython3",
      "version": "3.13.5"
    }
  },
  "nbformat": 4,
  "nbformat_minor": 0
}
